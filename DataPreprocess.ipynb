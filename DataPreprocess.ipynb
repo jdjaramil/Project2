{
 "cells": [
  {
   "cell_type": "code",
   "execution_count": 1,
   "id": "cfdaff56",
   "metadata": {},
   "outputs": [],
   "source": [
    "import os\n",
    "import pandas as pd\n",
    "import numpy as np\n",
    "import ast"
   ]
  },
  {
   "cell_type": "code",
   "execution_count": 2,
   "id": "9c63744e",
   "metadata": {},
   "outputs": [],
   "source": [
    "importantCols = ['date', 'content', 'id', 'likeCount']\n",
    "columnsToRetrieve = ['username', 'id', 'description', 'followersCount', 'friendsCount', 'statusesCount',\n",
    "                    'favouritesCount', 'listedCount', 'mediaCount', 'location']\n",
    "\n",
    "totalCols = importantCols + columnsToRetrieve "
   ]
  },
  {
   "cell_type": "code",
   "execution_count": 3,
   "id": "3097d976",
   "metadata": {},
   "outputs": [],
   "source": [
    "def getUserInfo(dictionaryString, columnsToRetrieve = columnsToRetrieve):\n",
    "    \n",
    "    '''\n",
    "    Function that will get a string dictionary of user information and will map it to a dictionary\n",
    "    '''\n",
    "    \n",
    "    columnsToRetrieve = columnsToRetrieve.copy()\n",
    "    data = []\n",
    "    try:\n",
    "        user_data = ast.literal_eval(dictionaryString)\n",
    "    except:\n",
    "        try:\n",
    "            user_data = dict(dictionaryString)\n",
    "        except Exception as e:\n",
    "            print(e)\n",
    "            raise Exception ('not possible to load the dictionary')\n",
    "\n",
    "    for idx, key in enumerate(columnsToRetrieve):\n",
    "        data.append( user_data[key])\n",
    "\n",
    "    if 'id' in columnsToRetrieve:\n",
    "        idx = columnsToRetrieve.index('id')\n",
    "        columnsToRetrieve[idx] = 'user_id'\n",
    "\n",
    "    return dict(zip(columnsToRetrieve, data))"
   ]
  },
  {
   "cell_type": "code",
   "execution_count": 4,
   "id": "27e23707",
   "metadata": {},
   "outputs": [
    {
     "name": "stdout",
     "output_type": "stream",
     "text": [
      "Wall time: 1min 5s\n"
     ]
    }
   ],
   "source": [
    "%%time\n",
    "\n",
    "fetterman = pd.DataFrame()\n",
    "\n",
    "directory = 'Data/'\n",
    "for filename in os.listdir(directory):\n",
    "    f = os.path.join(directory, filename)\n",
    "    if os.path.isfile(f) and filename.startswith('Fet'):\n",
    "        fetterman_incremental_file = pd.read_json(f, lines=True)[['date', 'content','id', 'lang', 'likeCount', 'user']]\n",
    "        fetterman = pd.concat([fetterman, fetterman_incremental_file], axis=0)\n",
    "    \n",
    "fetterman = fetterman.drop_duplicates(subset=['id'])\n",
    "fetterman = fetterman[fetterman['lang'] =='en']\n",
    "fetterman = fetterman[fetterman[\"content\"].str.lower().str.contains(\"oz\")==False]\n",
    "fetterman = fetterman.reset_index(drop=True)\n",
    "\n",
    "fetterman['test'] = fetterman['user'].apply(getUserInfo)\n",
    "fetterman = pd.concat([fetterman.drop(['test'], axis=1), fetterman['test'].apply(pd.Series)], axis=1)\n",
    "\n",
    "fetterman = fetterman[totalCols]\n",
    "\n",
    "fetterman.to_csv('fettermanRaw.csv', index = False)"
   ]
  },
  {
   "cell_type": "code",
   "execution_count": 5,
   "id": "4c24ac39",
   "metadata": {},
   "outputs": [
    {
     "name": "stdout",
     "output_type": "stream",
     "text": [
      "Wall time: 4min 53s\n"
     ]
    }
   ],
   "source": [
    "%%time\n",
    "\n",
    "oz = pd.DataFrame()\n",
    "directory = 'Data/'\n",
    "for filename in os.listdir(directory):\n",
    "    f = os.path.join(directory, filename)\n",
    "    if os.path.isfile(f) and (filename.startswith('Mehmet') or filename.startswith('Dr')):\n",
    "        oz_incremental_file = pd.read_json(f, lines=True)[['date', 'content','id', 'lang', 'likeCount', 'user']]\n",
    "        oz = pd.concat([oz, oz_incremental_file], axis=0)\n",
    "    \n",
    "oz = oz.drop_duplicates(subset=['id'])\n",
    "oz = oz[oz['lang'] =='en']\n",
    "oz = oz[oz[\"content\"].str.lower().str.contains(\"fetterman\")==False]\n",
    "oz = oz.reset_index(drop=True)\n",
    "\n",
    "oz['test'] = oz['user'].apply(getUserInfo)\n",
    "oz = pd.concat([oz.drop(['test'], axis=1), oz['test'].apply(pd.Series)], axis=1)\n",
    "\n",
    "oz = oz[totalCols]\n",
    "\n",
    "oz.to_csv('OzRaw.csv', index = False)"
   ]
  }
 ],
 "metadata": {
  "kernelspec": {
   "display_name": "Python 3",
   "language": "python",
   "name": "python3"
  },
  "language_info": {
   "codemirror_mode": {
    "name": "ipython",
    "version": 3
   },
   "file_extension": ".py",
   "mimetype": "text/x-python",
   "name": "python",
   "nbconvert_exporter": "python",
   "pygments_lexer": "ipython3",
   "version": "3.8.8"
  }
 },
 "nbformat": 4,
 "nbformat_minor": 5
}
